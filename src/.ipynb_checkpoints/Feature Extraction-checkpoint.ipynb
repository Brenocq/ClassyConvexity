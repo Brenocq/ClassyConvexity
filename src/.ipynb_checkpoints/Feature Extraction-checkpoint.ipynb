{
 "cells": [
  {
   "cell_type": "code",
   "execution_count": 51,
   "metadata": {},
   "outputs": [
    {
     "data": {
      "image/png": "[encoded data removed]",
      "text/plain": [
       "<Figure size 432x288 with 6 Axes>"
      ]
     },
     "metadata": {
      "needs_background": "light"
     },
     "output_type": "display_data"
    }
   ],
   "source": [
    "import matplotlib.pyplot as plt\n",
    "import numpy as np\n",
    "import cv2\n",
    "\n",
    "qtyTrainData = 5\n",
    "\n",
    "# Print classes\n",
    "\n",
    "for classNumber in range(0, 6):\n",
    "    img_path = \"../Data/aircraft-\"+str(classNumber)+\"/0.jpg\"\n",
    "    img = cv2.imread(img_path)\n",
    "    plt.subplot(2, 3, classNumber+1)\n",
    "    plt.imshow(img)\n",
    "    plt.axis(\"off\")\n",
    "    plt.title(\"Class \" + str(classNumber), fontsize=16)"
   ]
  },
  {
   "cell_type": "code",
   "execution_count": 316,
   "metadata": {},
   "outputs": [],
   "source": [
    "from scipy.spatial import ConvexHull, convex_hull_plot_2d\n",
    "\n",
    "def showConvexHull(hull, classNumber):\n",
    "    points = []\n",
    "    \n",
    "    for contour in hull:\n",
    "        for point in contour:\n",
    "            if(point[0][0]!=0 and point[0][0]!=199 and point[0][1]!=0 and point[0][1]!=199):\n",
    "                points.append([point[0][0], point[0][1]])\n",
    "    \n",
    "    indexhull = ConvexHull(points)\n",
    "    #print(hull.simplices) #print indexes\n",
    "    \n",
    "\n",
    "    for simplex in indexhull.simplices:\n",
    "        plt.plot([points[simplex[0]][0], points[simplex[1]][0]], [points[simplex[0]][1], points[simplex[1]][1]], 'r-')\n"
   ]
  },
  {
   "cell_type": "code",
   "execution_count": 342,
   "metadata": {},
   "outputs": [],
   "source": [
    "def calcAreaAircraft(img):\n",
    "    totalNumPixels = 40000\n",
    "    numBlackPixels = 0\n",
    "    cont = 0\n",
    "    for i in thresh:\n",
    "        for j in i:\n",
    "            cont=cont+1\n",
    "            if(j==0):\n",
    "                numBlackPixels=numBlackPixels+1\n",
    "                \n",
    "    return numBlackPixels/totalNumPixels*100"
   ]
  },
  {
   "cell_type": "code",
   "execution_count": 365,
   "metadata": {},
   "outputs": [],
   "source": [
    "def calcAreaConvexhull(hull):\n",
    "    points = []\n",
    "    \n",
    "    #----- Calculate convex hull points -----#\n",
    "    for contour in hull:\n",
    "        for point in contour:\n",
    "            if(point[0][0]!=0 and point[0][0]!=199 and point[0][1]!=0 and point[0][1]!=199):\n",
    "                points.append([point[0][0], point[0][1]])\n",
    "    \n",
    "    indexhull = ConvexHull(points)\n",
    "    \n",
    "    n = 0\n",
    "    hullPoints = []\n",
    "\n",
    "    for simplex in indexhull.simplices:\n",
    "        hullPoints.append([points[simplex[0]][0], points[simplex[0]][1]])\n",
    "        n=n+1\n",
    "        \n",
    "    \n",
    "    #----- Sort points -----#\n",
    "    angles = []\n",
    "    for i in range(0, n):\n",
    "        angles[i] = atan2(hullPoints[i][1], hullPoints[i][0]);\n",
    "\n",
    "    hullPoints.sort(key=angles[i])\n",
    "        \n",
    "    area = 0.0\n",
    "    # Calculate value of shoelace formula \n",
    "    j = n - 1\n",
    "    for i in range(0,n): \n",
    "        area += (hullPoints[j][0] + hullPoints[i][0]) * (hullPoints[j][1] - hullPoints[i][1])\n",
    "        j = i   # j is previous vertex to i \n",
    "      \n",
    "    return abs(0.5*area/40000*100)\n",
    "    "
   ]
  },
  {
   "cell_type": "code",
   "execution_count": 366,
   "metadata": {
    "scrolled": false
   },
   "outputs": [
    {
     "ename": "TypeError",
     "evalue": "append() takes exactly one argument (2 given)",
     "output_type": "error",
     "traceback": [
      "\u001b[0;31m---------------------------------------------------------------------------\u001b[0m",
      "\u001b[0;31mTypeError\u001b[0m                                 Traceback (most recent call last)",
      "\u001b[0;32m<ipython-input-366-3f047264c0f0>\u001b[0m in \u001b[0;36m<module>\u001b[0;34m\u001b[0m\n\u001b[1;32m     53\u001b[0m \u001b[0;34m\u001b[0m\u001b[0m\n\u001b[1;32m     54\u001b[0m         \u001b[0mareaAircraft\u001b[0m \u001b[0;34m=\u001b[0m \u001b[0mcalcAreaAircraft\u001b[0m\u001b[0;34m(\u001b[0m\u001b[0mthresh\u001b[0m\u001b[0;34m)\u001b[0m\u001b[0;34m\u001b[0m\u001b[0;34m\u001b[0m\u001b[0m\n\u001b[0;32m---> 55\u001b[0;31m         \u001b[0mareaConvexhull\u001b[0m \u001b[0;34m=\u001b[0m \u001b[0mcalcAreaConvexhull\u001b[0m\u001b[0;34m(\u001b[0m\u001b[0mhull\u001b[0m\u001b[0;34m)\u001b[0m\u001b[0;34m\u001b[0m\u001b[0;34m\u001b[0m\u001b[0m\n\u001b[0m\u001b[1;32m     56\u001b[0m \u001b[0;34m\u001b[0m\u001b[0m\n\u001b[1;32m     57\u001b[0m         \u001b[0mprint\u001b[0m\u001b[0;34m(\u001b[0m\u001b[0;34m\"Class \"\u001b[0m\u001b[0;34m,\u001b[0m \u001b[0mclassNumber\u001b[0m\u001b[0;34m,\u001b[0m \u001b[0;34m\"AirCraft:\"\u001b[0m\u001b[0;34m,\u001b[0m \u001b[0mareaAircraft\u001b[0m\u001b[0;34m,\u001b[0m \u001b[0;34m\"ConvexHull:\"\u001b[0m\u001b[0;34m,\u001b[0m \u001b[0mareaConvexhull\u001b[0m\u001b[0;34m)\u001b[0m\u001b[0;34m\u001b[0m\u001b[0;34m\u001b[0m\u001b[0m\n",
      "\u001b[0;32m<ipython-input-365-21c024c52ab6>\u001b[0m in \u001b[0;36mcalcAreaConvexhull\u001b[0;34m(hull)\u001b[0m\n\u001b[1;32m     14\u001b[0m \u001b[0;34m\u001b[0m\u001b[0m\n\u001b[1;32m     15\u001b[0m     \u001b[0;32mfor\u001b[0m \u001b[0msimplex\u001b[0m \u001b[0;32min\u001b[0m \u001b[0mindexhull\u001b[0m\u001b[0;34m.\u001b[0m\u001b[0msimplices\u001b[0m\u001b[0;34m:\u001b[0m\u001b[0;34m\u001b[0m\u001b[0;34m\u001b[0m\u001b[0m\n\u001b[0;32m---> 16\u001b[0;31m         \u001b[0mhullPoints\u001b[0m\u001b[0;34m.\u001b[0m\u001b[0mappend\u001b[0m\u001b[0;34m(\u001b[0m\u001b[0;34m[\u001b[0m\u001b[0mpoints\u001b[0m\u001b[0;34m[\u001b[0m\u001b[0msimplex\u001b[0m\u001b[0;34m[\u001b[0m\u001b[0;36m0\u001b[0m\u001b[0;34m]\u001b[0m\u001b[0;34m]\u001b[0m\u001b[0;34m[\u001b[0m\u001b[0;36m0\u001b[0m\u001b[0;34m]\u001b[0m\u001b[0;34m]\u001b[0m\u001b[0;34m,\u001b[0m \u001b[0mpoints\u001b[0m\u001b[0;34m[\u001b[0m\u001b[0msimplex\u001b[0m\u001b[0;34m[\u001b[0m\u001b[0;36m0\u001b[0m\u001b[0;34m]\u001b[0m\u001b[0;34m]\u001b[0m\u001b[0;34m[\u001b[0m\u001b[0;36m1\u001b[0m\u001b[0;34m]\u001b[0m\u001b[0;34m)\u001b[0m\u001b[0;34m\u001b[0m\u001b[0;34m\u001b[0m\u001b[0m\n\u001b[0m\u001b[1;32m     17\u001b[0m         \u001b[0mn\u001b[0m\u001b[0;34m=\u001b[0m\u001b[0mn\u001b[0m\u001b[0;34m+\u001b[0m\u001b[0;36m1\u001b[0m\u001b[0;34m\u001b[0m\u001b[0;34m\u001b[0m\u001b[0m\n\u001b[1;32m     18\u001b[0m \u001b[0;34m\u001b[0m\u001b[0m\n",
      "\u001b[0;31mTypeError\u001b[0m: append() takes exactly one argument (2 given)"
     ]
    },
    {
     "data": {
      "image/png": "[encoded data removed]",
      "text/plain": [
       "<Figure size 1440x1440 with 1 Axes>"
      ]
     },
     "metadata": {
      "needs_background": "light"
     },
     "output_type": "display_data"
    }
   ],
   "source": [
    "#----------- Write to outputFile -----------#\n",
    "import csv\n",
    "\n",
    "header = ['Class', ' AreaAirplane', ' AreaConvexHull']\n",
    "with open('trainData.csv', 'w') as csvFile:\n",
    "    writer = csv.writer(csvFile)\n",
    "    writer.writerow(header)\n",
    "csvFile.close() \n",
    "    \n",
    "for classNumber in range(0, 6):\n",
    "    plt.figure(classNumber, figsize=(20, 20))\n",
    "    for trainDataNumber in range(0,qtyTrainData):\n",
    "        img_path = \"../Data/aircraft-\"+str(classNumber)+\"/\"+str(trainDataNumber)+\".jpg\"\n",
    "        img = cv2.imread(img_path)\n",
    "        \n",
    "        #----------- Generate Convex hull -----------#\n",
    "        gray = cv2.cvtColor(img, cv2.COLOR_BGR2GRAY)\n",
    "        blur = cv2.blur(gray, (3, 3))\n",
    "        #binarize the image\n",
    "        ret, thresh = cv2.threshold(blur, 50, 255, cv2.THRESH_BINARY)\n",
    "        # Finding contours for the binarized\n",
    "        contours, hierarchy = cv2.findContours(thresh, cv2.RETR_TREE, cv2.CHAIN_APPROX_SIMPLE)\n",
    "        \n",
    "        # create hull array for convex hull points\n",
    "        hull = []\n",
    "        convexityDefects = [] \n",
    "\n",
    "        # calculate points for each contour\n",
    "        for i in range(len(contours)):\n",
    "            # creating convex hull object for each contour\n",
    "            hull.append(cv2.convexHull(contours[i], False))\n",
    "\n",
    "        # create an empty black image\n",
    "        drawing = np.zeros((thresh.shape[0], thresh.shape[1], 3), np.uint8)\n",
    "\n",
    "        \n",
    "        # draw contours and hull points, and find convexity defects\n",
    "        for i in range(len(contours)):\n",
    "            color_contours = (0, 255, 0) # green - color for contours\n",
    "            color = (255, 0, 0) # blue - color for convex hull\n",
    "            # draw ith contour\n",
    "            cv2.drawContours(drawing, contours, i, color_contours, 1, 8, hierarchy)\n",
    "            # draw ith convex hull object\n",
    "            #cv2.drawContours(drawing, hull, i, color, 1, 8)\n",
    "            \n",
    "        #----------- Show data -----------#\n",
    "        plt.subplot(6, qtyTrainData, trainDataNumber+1)\n",
    "        showConvexHull(hull, classNumber)\n",
    "        plt.imshow(drawing) # Uncommment this line to see the plane img\n",
    "        plt.axis(\"off\")\n",
    "        \n",
    "        #----------- Calculate areas -----------#\n",
    "        \n",
    "        areaAircraft = calcAreaAircraft(thresh)\n",
    "        areaConvexhull = calcAreaConvexhull(hull)\n",
    "        \n",
    "        print(\"Class \", classNumber, \"AirCraft:\", areaAircraft, \"ConvexHull:\", areaConvexhull)\n",
    "        #----------- Update output file -----------#\n",
    "        row = [str(classNumber), str(9.11), str(11.2)]\n",
    "        with open('trainData.csv', 'a') as csvFile:\n",
    "            writer = csv.writer(csvFile)\n",
    "            writer.writerow(row)\n",
    "        \n",
    "    plt.title(\"Class \" + str(classNumber), fontsize=32)\n",
    "    \n",
    "csvFile.close() "
   ]
  }
 ],
 "metadata": {
  "kernelspec": {
   "display_name": "Python (intel_dc2edge)",
   "language": "python",
   "name": "tf_training"
  },
  "language_info": {
   "codemirror_mode": {
    "name": "ipython",
    "version": 3
   },
   "file_extension": ".py",
   "mimetype": "text/x-python",
   "name": "python",
   "nbconvert_exporter": "python",
   "pygments_lexer": "ipython3",
   "version": "3.7.3"
  }
 },
 "nbformat": 4,
 "nbformat_minor": 2
}
